{
 "cells": [
  {
   "cell_type": "code",
   "execution_count": 1,
   "metadata": {},
   "outputs": [],
   "source": [
    "import tensorflow as tf\n",
    "from tensorflow.keras.models import Sequential\n",
    "from tensorflow.keras.layers import Conv2D, MaxPooling2D, Dense, Flatten, CategoryEncoding, Input, Rescaling\n",
    "from tensorflow.keras.metrics import Precision, Recall, BinaryAccuracy\n",
    "from tensorflow.keras.models import load_model\n",
    "import keras\n",
    "from keras import backend as K\n",
    "import os\n",
    "import cv2\n",
    "import imghdr\n",
    "import numpy as np\n",
    "from matplotlib import pyplot as plt\n",
    "import pandas as pd\n",
    "from sklearn.metrics import accuracy_score, precision_score, recall_score, f1_score"
   ]
  },
  {
   "cell_type": "code",
   "execution_count": null,
   "metadata": {},
   "outputs": [],
   "source": [
    "# provide custom loss function\n",
    "\n",
    "weights = tf.constant([42, 2.5])\n",
    "\n",
    "def weighted_cross_entropy(y_true, y_pred):\n",
    "    # compute softmax cross entropy\n",
    "    ce = tf.nn.softmax_cross_entropy_with_logits(labels=y_true, logits=y_pred)\n",
    "    \n",
    "    # get class from one-hot encoded label\n",
    "    y_true_class = tf.argmax(y_true, axis=1)\n",
    "    \n",
    "    # compute weights based on true class\n",
    "    weights_ce = tf.gather(weights, y_true_class)\n",
    "    \n",
    "    # apply weights\n",
    "    weighted_ce = ce * weights_ce\n",
    "    \n",
    "    return tf.reduce_mean(weighted_ce)"
   ]
  },
  {
   "cell_type": "code",
   "execution_count": 2,
   "metadata": {},
   "outputs": [
    {
     "name": "stdout",
     "output_type": "stream",
     "text": [
      "Metal device set to: Apple M1 Max\n",
      "\n",
      "systemMemory: 32.00 GB\n",
      "maxCacheSize: 10.67 GB\n",
      "\n"
     ]
    }
   ],
   "source": [
    "# load base model w/ standard loss\n",
    "model_path = os.path.join('..', 'models', 'dense3_softmax', 'particledrag_dataset=230511_epochs=15_BinaryCrossentropy.h5')\n",
    "\n",
    "model = load_model(model_path)"
   ]
  },
  {
   "cell_type": "code",
   "execution_count": null,
   "metadata": {},
   "outputs": [],
   "source": [
    "# load model\n",
    "model_path = os.path.join('..', 'models', 'dense3_softmax', 'particledrag_dataset=230511_epochs=15_WeightedCategoricalCrossentropy.h5')\n",
    "\n",
    "model = load_model(model_path, custom_objects={'weighted_cross_entropy': weighted_cross_entropy})"
   ]
  },
  {
   "cell_type": "code",
   "execution_count": 3,
   "metadata": {},
   "outputs": [
    {
     "name": "stdout",
     "output_type": "stream",
     "text": [
      "Found 27805 files belonging to 2 classes.\n"
     ]
    }
   ],
   "source": [
    "# load test set\n",
    "test_dir = os.path.join('..', '230503_Hot Run', 'data')\n",
    "\n",
    "test_data = tf.keras.utils.image_dataset_from_directory(test_dir, image_size=(480, 640), label_mode='categorical')"
   ]
  },
  {
   "cell_type": "code",
   "execution_count": 5,
   "metadata": {},
   "outputs": [
    {
     "name": "stdout",
     "output_type": "stream",
     "text": [
      "869/869 [==============================] - 71s 82ms/step\n",
      "Accuracy: 0.8470059341844992\n",
      "Precision: 0.759770240765735\n",
      "Recall: 0.8470059341844992\n",
      "F1 score: 0.7941972649608086\n"
     ]
    }
   ],
   "source": [
    "# compare to true labels\n",
    "y_true = np.concatenate([y for x, y in test_data], axis=0)\n",
    "y_pred = model.predict(test_data)\n",
    "\n",
    "y_pred_classes = np.argmax(y_pred, axis=1)\n",
    "y_true_classes = np.argmax(y_true, axis=1)\n",
    "\n",
    "accuracy = accuracy_score(y_true_classes, y_pred_classes)\n",
    "precision = precision_score(y_true_classes, y_pred_classes, average='weighted')\n",
    "f1 = f1_score(y_true_classes, y_pred_classes, average='weighted')\n",
    "\n",
    "# Print the metrics\n",
    "print('Accuracy:', accuracy)\n",
    "print('Precision:', precision)\n",
    "print('F1 score:', f1)"
   ]
  }
 ],
 "metadata": {
  "kernelspec": {
   "display_name": "tf1",
   "language": "python",
   "name": "python3"
  },
  "language_info": {
   "codemirror_mode": {
    "name": "ipython",
    "version": 3
   },
   "file_extension": ".py",
   "mimetype": "text/x-python",
   "name": "python",
   "nbconvert_exporter": "python",
   "pygments_lexer": "ipython3",
   "version": "3.10.10"
  },
  "orig_nbformat": 4
 },
 "nbformat": 4,
 "nbformat_minor": 2
}
